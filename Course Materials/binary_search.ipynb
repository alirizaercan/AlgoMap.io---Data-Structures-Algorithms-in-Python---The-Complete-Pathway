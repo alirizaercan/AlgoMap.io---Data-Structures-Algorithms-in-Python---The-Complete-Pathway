{
 "cells": [
  {
   "cell_type": "code",
   "execution_count": 2,
   "metadata": {},
   "outputs": [
    {
     "name": "stdout",
     "output_type": "stream",
     "text": [
      "True\n"
     ]
    }
   ],
   "source": [
    "A = [-3, -1, 0, 1, 4, 7]\n",
    "\n",
    "# Naive O(n) searching\n",
    "if -1 in A:\n",
    "    print(True)"
   ]
  },
  {
   "cell_type": "code",
   "execution_count": 4,
   "metadata": {},
   "outputs": [
    {
     "data": {
      "text/plain": [
       "True"
      ]
     },
     "execution_count": 4,
     "metadata": {},
     "output_type": "execute_result"
    }
   ],
   "source": [
    "# Traditional Binary Search - Looking up if number is in array:\n",
    "# Time : O(logn)\n",
    "# Space : O(1)\n",
    "def binary_search(arr, target):\n",
    "    N = len(A)\n",
    "    L = 0\n",
    "    R = N-1\n",
    "\n",
    "    while L <= R:\n",
    "        M = L + (R-L) // 2 \n",
    "        \n",
    "        if arr[M] == target:\n",
    "            return True\n",
    "        elif target < arr[M]:\n",
    "            R = M - 1 \n",
    "        else:\n",
    "            L = M + 1\n",
    "\n",
    "    return False\n",
    "\n",
    "binary_search(A, 7)"
   ]
  },
  {
   "cell_type": "code",
   "execution_count": 5,
   "metadata": {},
   "outputs": [
    {
     "data": {
      "text/plain": [
       "4"
      ]
     },
     "execution_count": 5,
     "metadata": {},
     "output_type": "execute_result"
    }
   ],
   "source": [
    "# Based on a condition\n",
    "# [F,F,F,F,T,T,T,T]\n",
    "B = [False, False, False, False, True, True, True]\n",
    "\n",
    "def binary_search_condition(arr):\n",
    "    N = len(arr)\n",
    "    L = 0\n",
    "    R = N-1\n",
    "    \n",
    "    while L<R:\n",
    "        M = (L+R) // 2 \n",
    "        \n",
    "        if B[M]:\n",
    "            R = M \n",
    "        else:\n",
    "            L = M + 1\n",
    "    return L\n",
    "\n",
    "binary_search_condition(B)"
   ]
  }
 ],
 "metadata": {
  "kernelspec": {
   "display_name": "Python 3",
   "language": "python",
   "name": "python3"
  },
  "language_info": {
   "codemirror_mode": {
    "name": "ipython",
    "version": 3
   },
   "file_extension": ".py",
   "mimetype": "text/x-python",
   "name": "python",
   "nbconvert_exporter": "python",
   "pygments_lexer": "ipython3",
   "version": "3.9.0"
  }
 },
 "nbformat": 4,
 "nbformat_minor": 2
}
